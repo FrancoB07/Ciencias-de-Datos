{
  "metadata": {
    "kernelspec": {
      "name": "python",
      "display_name": "Python (Pyodide)",
      "language": "python"
    },
    "language_info": {
      "codemirror_mode": {
        "name": "python",
        "version": 3
      },
      "file_extension": ".py",
      "mimetype": "text/x-python",
      "name": "python",
      "nbconvert_exporter": "python",
      "pygments_lexer": "ipython3",
      "version": "3.8"
    }
  },
  "nbformat_minor": 5,
  "nbformat": 4,
  "cells": [
    {
      "id": "7a6584a0-d162-400a-8fdd-15b7c1cd74c6",
      "cell_type": "markdown",
      "source": "#Mi Cuaderno",
      "metadata": {}
    },
    {
      "id": "cc996c7a-c9c2-4dac-92ca-1fa3f0500886",
      "cell_type": "markdown",
      "source": "Ejercicio 3 - Cree una celda markdown para una introducción. (1 pto)",
      "metadata": {}
    },
    {
      "id": "c19e408c-6c97-45f6-a498-9207ef494304",
      "cell_type": "markdown",
      "source": "#Introducción\nCuaderno de conceptos en ciencia de datos",
      "metadata": {}
    },
    {
      "id": "0a05d51a-87da-4dfa-aeb5-5daa9f5833f2",
      "cell_type": "markdown",
      "source": "Ejercicio 4 - Cree una celda markdown para enumerar los lenguajes de la ciencia de datos (3 ptos)",
      "metadata": {}
    },
    {
      "id": "a5e2dea7-5769-4d15-92e4-bd377f9874df",
      "cell_type": "markdown",
      "source": "#Lenguajes de Programación en Ciencia de Datos  \n- Python  \n- R  \n- SQL  \n- Julia  \n- Scala  ",
      "metadata": {}
    },
    {
      "id": "730dcae4-7a90-478f-82ed-701825e06755",
      "cell_type": "code",
      "source": "Ejercicio 5 - Cree una celda markdown para listar bibliotecas de ciencia de datos (3 ptos)",
      "metadata": {
        "trusted": true
      },
      "outputs": [],
      "execution_count": null
    },
    {
      "id": "eacb72a3-0c60-4a8d-bcfc-343bc1a65c12",
      "cell_type": "markdown",
      "source": "#Bibliotecas de Ciencia de Datos  \n- Pandas  \n- NumPy  \n- Matplotlib  \n- Seaborn  \n- Scikit-learn  \n- TensorFlow  \n- PyTorch  ",
      "metadata": {}
    },
    {
      "id": "2c80b23e-3d15-4bec-931e-74cb3c34d93e",
      "cell_type": "markdown",
      "source": "Ejercicio 6 - Cree una celda markdown con una tabla de herramientas de Ciencia de Datos (3 ptos)",
      "metadata": {}
    },
    {
      "id": "c4f2afe1-ee09-4c70-ab6f-fa9a1345b783",
      "cell_type": "markdown",
      "source": "| Tool             | Category         |\n|------------------|------------------|\n| Jupyter Notebook | IDE / Notebook   |\n| RStudio          | IDE              |\n| Apache Spark     | Big Data Engine  |\n| TensorFlow       | Deep Learning    |\n| GitHub           | Code Repository  |",
      "metadata": {}
    },
    {
      "id": "63fbfd03-f6cd-42de-8479-6645b5755041",
      "cell_type": "markdown",
      "source": "Ejercicio 7 - Cree una celda markdown introduciendo ejemplos de expresiones aritméticas. (1 pto)",
      "metadata": {}
    },
    {
      "id": "1cd45434-718d-4ad9-848c-74d673f90349",
      "cell_type": "markdown",
      "source": "#Ejemplos \n\n- Adicion: \" 5 + 2 \" = 7\n- Subtracción: \" 10 - 4 \" = 6\n- Multiplicación: \" 3 * 4 \" = 12\n- División: \" 12/3 \" = 4\n\n",
      "metadata": {}
    },
    {
      "id": "4155e252-7183-4d16-bfd6-2d3ccef68ac6",
      "cell_type": "code",
      "source": "Ejercicio 8 - Cree una celda de códigopara multiplicar y sumar números. (2 ptos)",
      "metadata": {
        "trusted": true
      },
      "outputs": [],
      "execution_count": null
    },
    {
      "id": "c2ec3137-0278-4d42-9057-3e418545801b",
      "cell_type": "code",
      "source": "#Multipicación\n8*3",
      "metadata": {
        "trusted": true
      },
      "outputs": [
        {
          "execution_count": 1,
          "output_type": "execute_result",
          "data": {
            "text/plain": "24"
          },
          "metadata": {}
        }
      ],
      "execution_count": 1
    },
    {
      "id": "58c86770-0176-4417-85b8-9c0855b4076b",
      "cell_type": "code",
      "source": "#Suma\n5+300",
      "metadata": {
        "trusted": true
      },
      "outputs": [
        {
          "execution_count": 2,
          "output_type": "execute_result",
          "data": {
            "text/plain": "305"
          },
          "metadata": {}
        }
      ],
      "execution_count": 2
    },
    {
      "id": "71657b59-9e95-4cc4-83c8-41c6a0b55516",
      "cell_type": "code",
      "source": "#Multiplicación y suma\n4*5+300",
      "metadata": {
        "trusted": true
      },
      "outputs": [
        {
          "execution_count": 3,
          "output_type": "execute_result",
          "data": {
            "text/plain": "320"
          },
          "metadata": {}
        }
      ],
      "execution_count": 3
    },
    {
      "id": "1982df23-6615-4fc0-861c-113f13302245",
      "cell_type": "code",
      "source": "Ejercicio 9 - Cree una celda de código para convertir minutos en horas. (2 ptos)",
      "metadata": {
        "trusted": true
      },
      "outputs": [],
      "execution_count": null
    },
    {
      "id": "5d7f7c48-7b9b-4e5f-a86a-31bf98c82f9b",
      "cell_type": "code",
      "source": "# M = Minutos\n# H = Horas\nM=200\nH=M/60\nH\n",
      "metadata": {
        "trusted": true
      },
      "outputs": [
        {
          "execution_count": 6,
          "output_type": "execute_result",
          "data": {
            "text/plain": "3.3333333333333335"
          },
          "metadata": {}
        }
      ],
      "execution_count": 6
    },
    {
      "id": "4abed44e-ac4d-4aa9-bce1-ae6efa51ef3f",
      "cell_type": "code",
      "source": "Ejercicio 10 -Inserte una celda de código para listar Objetivos. (3 pts)",
      "metadata": {
        "trusted": true
      },
      "outputs": [],
      "execution_count": null
    },
    {
      "id": "46d76570-7472-404b-be72-daddbda671c7",
      "cell_type": "code",
      "source": "#Codigo Para listar Objetivos\nObjetivo_Cazuela = [\n    \"Runir todos los ingredientes frescos necesarios\",\n    \"Picar verduras como cebolla, ajo, pimentón y zanahoria\",\n    \"Sofreír las verduras en una olla grande\",\n    \"Agregar el ingrediente principal (pollo, mariscos, carne)\",\n    \"Incorporar condimentos y especias al gusto\",\n    \"Añadir caldo o agua y dejar cocinar a fuego lento\",\n    \"Verificar la cocción y ajustar sal y condimentos\",\n    \"Servir caliente acompañado de arroz o pan\"\n]\nfor paso in Objetivo_Cazuela:\n    print(\"-\", paso)",
      "metadata": {
        "trusted": true
      },
      "outputs": [
        {
          "name": "stdout",
          "output_type": "stream",
          "text": "- Runir todos los ingredientes frescos necesarios\n- Picar verduras como cebolla, ajo, pimentón y zanahoria\n- Sofreír las verduras en una olla grande\n- Agregar el ingrediente principal (pollo, mariscos, carne)\n- Incorporar condimentos y especias al gusto\n- Añadir caldo o agua y dejar cocinar a fuego lento\n- Verificar la cocción y ajustar sal y condimentos\n- Servir caliente acompañado de arroz o pan\n"
        }
      ],
      "execution_count": 7
    },
    {
      "id": "2ec7dd01-4f7b-432e-aece-68a2a83bf201",
      "cell_type": "code",
      "source": "Ejercicio 11 - Cree una celda markdown para indicar el nombre del Autor. (2 ptos)",
      "metadata": {
        "trusted": true
      },
      "outputs": [],
      "execution_count": null
    },
    {
      "id": "8cdda438-dc5d-4e64-bdc9-1ea8b8754776",
      "cell_type": "markdown",
      "source": "#Autor\nFranco B.",
      "metadata": {}
    },
    {
      "id": "30505b4a-1a9c-491e-8aa1-f5c3cd64ffc1",
      "cell_type": "code",
      "source": "",
      "metadata": {
        "trusted": true
      },
      "outputs": [],
      "execution_count": null
    }
  ]
}